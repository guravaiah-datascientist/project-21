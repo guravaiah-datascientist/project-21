{
 "cells": [
  {
   "cell_type": "code",
   "execution_count": 1,
   "id": "75719372",
   "metadata": {},
   "outputs": [],
   "source": [
    "import pandas as pd\n",
    "import warnings\n",
    "warnings.simplefilter('ignore')"
   ]
  },
  {
   "cell_type": "code",
   "execution_count": 2,
   "id": "f1bf98fa",
   "metadata": {},
   "outputs": [
    {
     "data": {
      "text/html": [
       "<div>\n",
       "<style scoped>\n",
       "    .dataframe tbody tr th:only-of-type {\n",
       "        vertical-align: middle;\n",
       "    }\n",
       "\n",
       "    .dataframe tbody tr th {\n",
       "        vertical-align: top;\n",
       "    }\n",
       "\n",
       "    .dataframe thead th {\n",
       "        text-align: right;\n",
       "    }\n",
       "</style>\n",
       "<table border=\"1\" class=\"dataframe\">\n",
       "  <thead>\n",
       "    <tr style=\"text-align: right;\">\n",
       "      <th></th>\n",
       "      <th>Article</th>\n",
       "    </tr>\n",
       "  </thead>\n",
       "  <tbody>\n",
       "    <tr>\n",
       "      <th>0</th>\n",
       "      <td>In the Washington of 2016, even when the polic...</td>\n",
       "    </tr>\n",
       "    <tr>\n",
       "      <th>1</th>\n",
       "      <td>Donald Trump has used Twitter  —   his prefe...</td>\n",
       "    </tr>\n",
       "    <tr>\n",
       "      <th>2</th>\n",
       "      <td>Donald Trump is unabashedly praising Russian...</td>\n",
       "    </tr>\n",
       "    <tr>\n",
       "      <th>3</th>\n",
       "      <td>Updated at 2:50 p. m. ET, Russian President Vl...</td>\n",
       "    </tr>\n",
       "    <tr>\n",
       "      <th>4</th>\n",
       "      <td>From photography, illustration and video, to d...</td>\n",
       "    </tr>\n",
       "    <tr>\n",
       "      <th>...</th>\n",
       "      <td>...</td>\n",
       "    </tr>\n",
       "    <tr>\n",
       "      <th>195</th>\n",
       "      <td>Mothers should feel comfortable   infants in p...</td>\n",
       "    </tr>\n",
       "    <tr>\n",
       "      <th>196</th>\n",
       "      <td>In South Korea, preparing for the worst has be...</td>\n",
       "    </tr>\n",
       "    <tr>\n",
       "      <th>197</th>\n",
       "      <td>David Bowie had long wanted to make a record w...</td>\n",
       "    </tr>\n",
       "    <tr>\n",
       "      <th>198</th>\n",
       "      <td>Chances are your doctor has stopped taking not...</td>\n",
       "    </tr>\n",
       "    <tr>\n",
       "      <th>199</th>\n",
       "      <td>French police have reportedly arrested more th...</td>\n",
       "    </tr>\n",
       "  </tbody>\n",
       "</table>\n",
       "<p>200 rows × 1 columns</p>\n",
       "</div>"
      ],
      "text/plain": [
       "                                               Article\n",
       "0    In the Washington of 2016, even when the polic...\n",
       "1      Donald Trump has used Twitter  —   his prefe...\n",
       "2      Donald Trump is unabashedly praising Russian...\n",
       "3    Updated at 2:50 p. m. ET, Russian President Vl...\n",
       "4    From photography, illustration and video, to d...\n",
       "..                                                 ...\n",
       "195  Mothers should feel comfortable   infants in p...\n",
       "196  In South Korea, preparing for the worst has be...\n",
       "197  David Bowie had long wanted to make a record w...\n",
       "198  Chances are your doctor has stopped taking not...\n",
       "199  French police have reportedly arrested more th...\n",
       "\n",
       "[200 rows x 1 columns]"
      ]
     },
     "execution_count": 2,
     "metadata": {},
     "output_type": "execute_result"
    }
   ],
   "source": [
    "df=pd.read_csv('npr.csv')\n",
    "df"
   ]
  },
  {
   "cell_type": "code",
   "execution_count": 3,
   "id": "9a1382a7",
   "metadata": {},
   "outputs": [
    {
     "name": "stdout",
     "output_type": "stream",
     "text": [
      "<class 'pandas.core.frame.DataFrame'>\n",
      "RangeIndex: 200 entries, 0 to 199\n",
      "Data columns (total 1 columns):\n",
      " #   Column   Non-Null Count  Dtype \n",
      "---  ------   --------------  ----- \n",
      " 0   Article  200 non-null    object\n",
      "dtypes: object(1)\n",
      "memory usage: 1.7+ KB\n"
     ]
    }
   ],
   "source": [
    "df.info()"
   ]
  },
  {
   "cell_type": "code",
   "execution_count": 4,
   "id": "94394d8d",
   "metadata": {},
   "outputs": [],
   "source": [
    "import nltk\n",
    "import re\n",
    "from nltk.corpus import stopwords\n",
    "from nltk.stem import WordNetLemmatizer\n",
    "wnl=WordNetLemmatizer()"
   ]
  },
  {
   "cell_type": "code",
   "execution_count": 5,
   "id": "d625d39d",
   "metadata": {},
   "outputs": [],
   "source": [
    "#remove punctuations\n",
    "#remove stopwords\n",
    "#stemming/lemmatizing\n",
    "\n",
    "corpus=[]\n",
    "for i in range(len(df)):\n",
    "    rp=re.sub('[^a-zA-Z]',\" \",df['Article'][i])\n",
    "    rsw=rp.lower()\n",
    "    rsw=rsw.split()\n",
    "    rsw=[wnl.lemmatize(word) for word in rsw if word not in set(stopwords.words('english'))]\n",
    "    rsw=\" \".join(rsw)\n",
    "    corpus.append(rsw)"
   ]
  },
  {
   "cell_type": "code",
   "execution_count": 6,
   "id": "bc7bb2f4",
   "metadata": {},
   "outputs": [],
   "source": [
    "#vectorization \n",
    "from sklearn.feature_extraction.text import CountVectorizer\n",
    "cv=CountVectorizer()\n",
    "x=cv.fit_transform(corpus)"
   ]
  },
  {
   "cell_type": "code",
   "execution_count": 7,
   "id": "428900be",
   "metadata": {},
   "outputs": [
    {
     "data": {
      "text/plain": [
       "LatentDirichletAllocation(n_components=5)"
      ]
     },
     "execution_count": 7,
     "metadata": {},
     "output_type": "execute_result"
    }
   ],
   "source": [
    "# Modelling Using LDA\n",
    "from sklearn.decomposition import LatentDirichletAllocation\n",
    "model=LatentDirichletAllocation(n_components=5)\n",
    "model.fit(x)"
   ]
  },
  {
   "cell_type": "code",
   "execution_count": 8,
   "id": "94a3ca3e",
   "metadata": {},
   "outputs": [],
   "source": [
    "topic_result=model.transform(x)"
   ]
  },
  {
   "cell_type": "code",
   "execution_count": 9,
   "id": "36803c72",
   "metadata": {},
   "outputs": [
    {
     "data": {
      "text/plain": [
       "array([2.94821824e-04, 2.96492748e-04, 2.95057538e-04, 2.96604919e-04,\n",
       "       9.98817023e-01])"
      ]
     },
     "execution_count": 9,
     "metadata": {},
     "output_type": "execute_result"
    }
   ],
   "source": [
    "topic_result[0]"
   ]
  },
  {
   "cell_type": "code",
   "execution_count": 10,
   "id": "6339ade2",
   "metadata": {},
   "outputs": [
    {
     "data": {
      "text/plain": [
       "4"
      ]
     },
     "execution_count": 10,
     "metadata": {},
     "output_type": "execute_result"
    }
   ],
   "source": [
    "topic_result[0].argmax()"
   ]
  },
  {
   "cell_type": "code",
   "execution_count": 11,
   "id": "fd4b521c",
   "metadata": {},
   "outputs": [],
   "source": [
    "#combining with original data\n",
    "df['group']=topic_result.argmax(axis=1)"
   ]
  },
  {
   "cell_type": "code",
   "execution_count": 12,
   "id": "d0b99373",
   "metadata": {},
   "outputs": [
    {
     "data": {
      "text/html": [
       "<div>\n",
       "<style scoped>\n",
       "    .dataframe tbody tr th:only-of-type {\n",
       "        vertical-align: middle;\n",
       "    }\n",
       "\n",
       "    .dataframe tbody tr th {\n",
       "        vertical-align: top;\n",
       "    }\n",
       "\n",
       "    .dataframe thead th {\n",
       "        text-align: right;\n",
       "    }\n",
       "</style>\n",
       "<table border=\"1\" class=\"dataframe\">\n",
       "  <thead>\n",
       "    <tr style=\"text-align: right;\">\n",
       "      <th></th>\n",
       "      <th>Article</th>\n",
       "      <th>group</th>\n",
       "    </tr>\n",
       "  </thead>\n",
       "  <tbody>\n",
       "    <tr>\n",
       "      <th>0</th>\n",
       "      <td>In the Washington of 2016, even when the polic...</td>\n",
       "      <td>4</td>\n",
       "    </tr>\n",
       "    <tr>\n",
       "      <th>1</th>\n",
       "      <td>Donald Trump has used Twitter  —   his prefe...</td>\n",
       "      <td>4</td>\n",
       "    </tr>\n",
       "    <tr>\n",
       "      <th>2</th>\n",
       "      <td>Donald Trump is unabashedly praising Russian...</td>\n",
       "      <td>4</td>\n",
       "    </tr>\n",
       "    <tr>\n",
       "      <th>3</th>\n",
       "      <td>Updated at 2:50 p. m. ET, Russian President Vl...</td>\n",
       "      <td>4</td>\n",
       "    </tr>\n",
       "    <tr>\n",
       "      <th>4</th>\n",
       "      <td>From photography, illustration and video, to d...</td>\n",
       "      <td>1</td>\n",
       "    </tr>\n",
       "  </tbody>\n",
       "</table>\n",
       "</div>"
      ],
      "text/plain": [
       "                                             Article  group\n",
       "0  In the Washington of 2016, even when the polic...      4\n",
       "1    Donald Trump has used Twitter  —   his prefe...      4\n",
       "2    Donald Trump is unabashedly praising Russian...      4\n",
       "3  Updated at 2:50 p. m. ET, Russian President Vl...      4\n",
       "4  From photography, illustration and video, to d...      1"
      ]
     },
     "execution_count": 12,
     "metadata": {},
     "output_type": "execute_result"
    }
   ],
   "source": [
    "df.head()"
   ]
  },
  {
   "cell_type": "code",
   "execution_count": 13,
   "id": "b6b6e617",
   "metadata": {},
   "outputs": [
    {
     "name": "stdout",
     "output_type": "stream",
     "text": [
      "top 10 word for topic #0\n",
      "['woman', 'think', 'country', 'college', 'marine', 'time', 'like', 'new', 'year', 'say']\n",
      "\n",
      "\n",
      "top 10 word for topic #1\n",
      "['time', 'new', 'student', 'school', 'like', 'one', 'said', 'year', 'people', 'say']\n",
      "\n",
      "\n",
      "top 10 word for topic #2\n",
      "['state', 'new', 'child', 'many', 'time', 'people', 'diet', 'year', 'one', 'say']\n",
      "\n",
      "\n",
      "top 10 word for topic #3\n",
      "['way', 'think', 'could', 'thing', 'time', 'people', 'year', 'one', 'like', 'say']\n",
      "\n",
      "\n",
      "top 10 word for topic #4\n",
      "['election', 'would', 'also', 'house', 'russia', 'republican', 'obama', 'president', 'said', 'trump']\n",
      "\n",
      "\n"
     ]
    }
   ],
   "source": [
    "for index,topic in enumerate(model.components_):\n",
    "    print(f'top 10 word for topic #{index}')\n",
    "    print([cv.get_feature_names()[i] for i in topic.argsort()[-10:]])\n",
    "    print('\\n')"
   ]
  },
  {
   "cell_type": "code",
   "execution_count": null,
   "id": "91c1257c",
   "metadata": {},
   "outputs": [],
   "source": []
  }
 ],
 "metadata": {
  "kernelspec": {
   "display_name": "Python 3 (ipykernel)",
   "language": "python",
   "name": "python3"
  },
  "language_info": {
   "codemirror_mode": {
    "name": "ipython",
    "version": 3
   },
   "file_extension": ".py",
   "mimetype": "text/x-python",
   "name": "python",
   "nbconvert_exporter": "python",
   "pygments_lexer": "ipython3",
   "version": "3.9.13"
  }
 },
 "nbformat": 4,
 "nbformat_minor": 5
}
